{
 "cells": [
  {
   "cell_type": "code",
   "execution_count": 1,
   "metadata": {},
   "outputs": [
    {
     "name": "stdout",
     "output_type": "stream",
     "text": [
      "Requirement already satisfied: easyocr in c:\\users\\zijun\\appdata\\local\\programs\\python\\python311\\lib\\site-packages (1.7.1)\n",
      "Requirement already satisfied: torch in c:\\users\\zijun\\appdata\\local\\programs\\python\\python311\\lib\\site-packages (from easyocr) (2.3.0)\n",
      "Requirement already satisfied: torchvision>=0.5 in c:\\users\\zijun\\appdata\\local\\programs\\python\\python311\\lib\\site-packages (from easyocr) (0.18.0)\n",
      "Collecting opencv-python-headless (from easyocr)\n",
      "  Using cached opencv_python_headless-4.9.0.80-cp37-abi3-win_amd64.whl (38.5 MB)\n",
      "Requirement already satisfied: scipy in c:\\users\\zijun\\appdata\\local\\programs\\python\\python311\\lib\\site-packages (from easyocr) (1.13.0)\n",
      "Requirement already satisfied: numpy in c:\\users\\zijun\\appdata\\local\\programs\\python\\python311\\lib\\site-packages (from easyocr) (1.26.4)\n",
      "Requirement already satisfied: Pillow in c:\\users\\zijun\\appdata\\local\\programs\\python\\python311\\lib\\site-packages (from easyocr) (10.3.0)\n",
      "Requirement already satisfied: scikit-image in c:\\users\\zijun\\appdata\\local\\programs\\python\\python311\\lib\\site-packages (from easyocr) (0.23.2)\n",
      "Requirement already satisfied: python-bidi in c:\\users\\zijun\\appdata\\local\\programs\\python\\python311\\lib\\site-packages (from easyocr) (0.4.2)\n",
      "Requirement already satisfied: PyYAML in c:\\users\\zijun\\appdata\\local\\programs\\python\\python311\\lib\\site-packages (from easyocr) (6.0.1)\n",
      "Requirement already satisfied: Shapely in c:\\users\\zijun\\appdata\\local\\programs\\python\\python311\\lib\\site-packages (from easyocr) (2.0.4)\n",
      "Requirement already satisfied: pyclipper in c:\\users\\zijun\\appdata\\local\\programs\\python\\python311\\lib\\site-packages (from easyocr) (1.3.0.post5)\n",
      "Requirement already satisfied: ninja in c:\\users\\zijun\\appdata\\local\\programs\\python\\python311\\lib\\site-packages (from easyocr) (1.11.1.1)\n",
      "Requirement already satisfied: filelock in c:\\users\\zijun\\appdata\\local\\programs\\python\\python311\\lib\\site-packages (from torch->easyocr) (3.14.0)\n",
      "Requirement already satisfied: typing-extensions>=4.8.0 in c:\\users\\zijun\\appdata\\roaming\\python\\python311\\site-packages (from torch->easyocr) (4.11.0)\n",
      "Requirement already satisfied: sympy in c:\\users\\zijun\\appdata\\local\\programs\\python\\python311\\lib\\site-packages (from torch->easyocr) (1.12)\n",
      "Requirement already satisfied: networkx in c:\\users\\zijun\\appdata\\local\\programs\\python\\python311\\lib\\site-packages (from torch->easyocr) (3.3)\n",
      "Requirement already satisfied: jinja2 in c:\\users\\zijun\\appdata\\local\\programs\\python\\python311\\lib\\site-packages (from torch->easyocr) (3.1.4)\n",
      "Requirement already satisfied: fsspec in c:\\users\\zijun\\appdata\\local\\programs\\python\\python311\\lib\\site-packages (from torch->easyocr) (2024.5.0)\n",
      "Requirement already satisfied: mkl<=2021.4.0,>=2021.1.1 in c:\\users\\zijun\\appdata\\local\\programs\\python\\python311\\lib\\site-packages (from torch->easyocr) (2021.4.0)\n",
      "Requirement already satisfied: six in c:\\users\\zijun\\appdata\\roaming\\python\\python311\\site-packages (from python-bidi->easyocr) (1.16.0)\n",
      "Requirement already satisfied: imageio>=2.33 in c:\\users\\zijun\\appdata\\local\\programs\\python\\python311\\lib\\site-packages (from scikit-image->easyocr) (2.34.1)\n",
      "Requirement already satisfied: tifffile>=2022.8.12 in c:\\users\\zijun\\appdata\\local\\programs\\python\\python311\\lib\\site-packages (from scikit-image->easyocr) (2024.5.10)\n",
      "Requirement already satisfied: packaging>=21 in c:\\users\\zijun\\appdata\\roaming\\python\\python311\\site-packages (from scikit-image->easyocr) (24.0)\n",
      "Requirement already satisfied: lazy-loader>=0.4 in c:\\users\\zijun\\appdata\\local\\programs\\python\\python311\\lib\\site-packages (from scikit-image->easyocr) (0.4)\n",
      "Requirement already satisfied: intel-openmp==2021.* in c:\\users\\zijun\\appdata\\local\\programs\\python\\python311\\lib\\site-packages (from mkl<=2021.4.0,>=2021.1.1->torch->easyocr) (2021.4.0)\n",
      "Requirement already satisfied: tbb==2021.* in c:\\users\\zijun\\appdata\\local\\programs\\python\\python311\\lib\\site-packages (from mkl<=2021.4.0,>=2021.1.1->torch->easyocr) (2021.12.0)\n",
      "Requirement already satisfied: MarkupSafe>=2.0 in c:\\users\\zijun\\appdata\\local\\programs\\python\\python311\\lib\\site-packages (from jinja2->torch->easyocr) (2.1.5)\n",
      "Requirement already satisfied: mpmath>=0.19 in c:\\users\\zijun\\appdata\\local\\programs\\python\\python311\\lib\\site-packages (from sympy->torch->easyocr) (1.3.0)\n",
      "Installing collected packages: opencv-python-headless\n",
      "Successfully installed opencv-python-headless-4.9.0.80\n",
      "Note: you may need to restart the kernel to use updated packages.\n"
     ]
    },
    {
     "name": "stderr",
     "output_type": "stream",
     "text": [
      "WARNING: Ignoring invalid distribution ~pencv-python-headless (c:\\Users\\zijun\\AppData\\Local\\Programs\\Python\\Python311\\Lib\\site-packages)\n",
      "WARNING: Ignoring invalid distribution ~pencv-python-headless (c:\\Users\\zijun\\AppData\\Local\\Programs\\Python\\Python311\\Lib\\site-packages)\n",
      "\n",
      "[notice] A new release of pip is available: 23.1.2 -> 24.0\n",
      "[notice] To update, run: python.exe -m pip install --upgrade pip\n"
     ]
    },
    {
     "name": "stdout",
     "output_type": "stream",
     "text": [
      "Requirement already satisfied: pytesseract in c:\\users\\zijun\\appdata\\local\\programs\\python\\python311\\lib\\site-packages (0.3.10)\n",
      "Requirement already satisfied: packaging>=21.3 in c:\\users\\zijun\\appdata\\roaming\\python\\python311\\site-packages (from pytesseract) (24.0)\n",
      "Requirement already satisfied: Pillow>=8.0.0 in c:\\users\\zijun\\appdata\\local\\programs\\python\\python311\\lib\\site-packages (from pytesseract) (10.3.0)\n",
      "Note: you may need to restart the kernel to use updated packages.\n"
     ]
    },
    {
     "name": "stderr",
     "output_type": "stream",
     "text": [
      "\n",
      "[notice] A new release of pip is available: 23.1.2 -> 24.0\n",
      "[notice] To update, run: python.exe -m pip install --upgrade pip\n"
     ]
    },
    {
     "name": "stdout",
     "output_type": "stream",
     "text": [
      "Requirement already satisfied: opencv-python in c:\\users\\zijun\\appdata\\local\\programs\\python\\python311\\lib\\site-packages (4.9.0.80)\n",
      "Requirement already satisfied: numpy>=1.21.2 in c:\\users\\zijun\\appdata\\local\\programs\\python\\python311\\lib\\site-packages (from opencv-python) (1.26.4)\n",
      "Note: you may need to restart the kernel to use updated packages.\n"
     ]
    },
    {
     "name": "stderr",
     "output_type": "stream",
     "text": [
      "\n",
      "[notice] A new release of pip is available: 23.1.2 -> 24.0\n",
      "[notice] To update, run: python.exe -m pip install --upgrade pip\n"
     ]
    }
   ],
   "source": [
    "%pip install easyocr\n",
    "%pip install pytesseract\n",
    "%pip install opencv-python"
   ]
  },
  {
   "cell_type": "code",
   "execution_count": 1,
   "metadata": {},
   "outputs": [
    {
     "ename": "error",
     "evalue": "OpenCV(4.9.0) D:\\a\\opencv-python\\opencv-python\\opencv\\modules\\highgui\\src\\window.cpp:1272: error: (-2:Unspecified error) The function is not implemented. Rebuild the library with Windows, GTK+ 2.x or Cocoa support. If you are on Ubuntu or Debian, install libgtk2.0-dev and pkg-config, then re-run cmake or configure script in function 'cvShowImage'\n",
     "output_type": "error",
     "traceback": [
      "\u001b[1;31m---------------------------------------------------------------------------\u001b[0m",
      "\u001b[1;31merror\u001b[0m                                     Traceback (most recent call last)",
      "Cell \u001b[1;32mIn[1], line 29\u001b[0m\n\u001b[0;32m     26\u001b[0m     cv2\u001b[38;5;241m.\u001b[39mputText(frame, recognized_text, (\u001b[38;5;241m20\u001b[39m, \u001b[38;5;241m20\u001b[39m), cv2\u001b[38;5;241m.\u001b[39mFONT_HERSHEY_SIMPLEX, \u001b[38;5;241m0.7\u001b[39m, (\u001b[38;5;241m0\u001b[39m, \u001b[38;5;241m255\u001b[39m, \u001b[38;5;241m0\u001b[39m), \u001b[38;5;241m2\u001b[39m)\n\u001b[0;32m     28\u001b[0m     \u001b[38;5;66;03m# Display the result\u001b[39;00m\n\u001b[1;32m---> 29\u001b[0m     \u001b[43mcv2\u001b[49m\u001b[38;5;241;43m.\u001b[39;49m\u001b[43mimshow\u001b[49m\u001b[43m(\u001b[49m\u001b[38;5;124;43m\"\u001b[39;49m\u001b[38;5;124;43mReal-Time Text Detection\u001b[39;49m\u001b[38;5;124;43m\"\u001b[39;49m\u001b[43m,\u001b[49m\u001b[43m \u001b[49m\u001b[43mframe\u001b[49m\u001b[43m)\u001b[49m\n\u001b[0;32m     32\u001b[0m     \u001b[38;5;28;01mif\u001b[39;00m cv2\u001b[38;5;241m.\u001b[39mwaitKey(\u001b[38;5;241m1\u001b[39m) \u001b[38;5;241m&\u001b[39m \u001b[38;5;241m0xFF\u001b[39m \u001b[38;5;241m==\u001b[39m \u001b[38;5;28mord\u001b[39m(\u001b[38;5;124m'\u001b[39m\u001b[38;5;124mq\u001b[39m\u001b[38;5;124m'\u001b[39m): \u001b[38;5;28;01mbreak\u001b[39;00m\n\u001b[0;32m     34\u001b[0m vidCap\u001b[38;5;241m.\u001b[39mrelease()\n",
      "\u001b[1;31merror\u001b[0m: OpenCV(4.9.0) D:\\a\\opencv-python\\opencv-python\\opencv\\modules\\highgui\\src\\window.cpp:1272: error: (-2:Unspecified error) The function is not implemented. Rebuild the library with Windows, GTK+ 2.x or Cocoa support. If you are on Ubuntu or Debian, install libgtk2.0-dev and pkg-config, then re-run cmake or configure script in function 'cvShowImage'\n"
     ]
    }
   ],
   "source": [
    "import numpy as np\n",
    "import cv2\n",
    "#import easyocr\n",
    "import pytesseract\n",
    "from PIL import ImageGrab\n",
    "\n",
    "camNum= 0\n",
    "vidCap = cv2.VideoCapture(camNum)\n",
    "vidCap.set(3, 640)\n",
    "vidCap.set(4, 480)\n",
    "#reader = easyocr.Reader(['en'], gpu=False)\n",
    "pytesseract.pytesseract.tesseract_cmd = r'C:\\Program Files\\Tesseract-OCR\\tesseract.exe'\n",
    "\n",
    "while(True):\n",
    "    # [+:] Read the frame/video. Add the parameter 'cv2.IMREAD_UNCHANGED' to keep cv2 from converting the image to uint8 (assuming it isn't already)\n",
    "        # [+] uint16 can handle negative numbers, uint8 does not. For uint8, it starts counting backwards fromm 255 once you hit -1. \n",
    "    ret, frame = vidCap.read()\n",
    "    if ret==False: \n",
    "        print(\"[x] ERROR: no video frames read\")\n",
    "        break\n",
    "    \n",
    "    # Perform text detection on the frame using Tesseract OCR\n",
    "    recognized_text = pytesseract.image_to_string(frame)\n",
    "\n",
    "     # Display the recognized text on the frame in green color\n",
    "    cv2.putText(frame, recognized_text, (20, 20), cv2.FONT_HERSHEY_SIMPLEX, 0.7, (0, 255, 0), 2)\n",
    "\n",
    "    # Display the result\n",
    "    cv2.imshow(\"Real-Time Text Detection\", frame)\n",
    "    \n",
    "\n",
    "    if cv2.waitKey(1) & 0xFF == ord('q'): break\n",
    "    \n",
    "vidCap.release()\n",
    "cv2.destroyAllWindows()"
   ]
  },
  {
   "cell_type": "code",
   "execution_count": 1,
   "metadata": {},
   "outputs": [
    {
     "ename": "ModuleNotFoundError",
     "evalue": "No module named 'jetson'",
     "output_type": "error",
     "traceback": [
      "\u001b[1;31m---------------------------------------------------------------------------\u001b[0m",
      "\u001b[1;31mModuleNotFoundError\u001b[0m                       Traceback (most recent call last)",
      "Cell \u001b[1;32mIn[1], line 1\u001b[0m\n\u001b[1;32m----> 1\u001b[0m \u001b[38;5;28;01mimport\u001b[39;00m \u001b[38;5;21;01mjetson\u001b[39;00m\u001b[38;5;21;01m.\u001b[39;00m\u001b[38;5;21;01minference\u001b[39;00m\n\u001b[0;32m      2\u001b[0m \u001b[38;5;28;01mimport\u001b[39;00m \u001b[38;5;21;01mjetson\u001b[39;00m\u001b[38;5;21;01m.\u001b[39;00m\u001b[38;5;21;01mutils\u001b[39;00m\n\u001b[0;32m      4\u001b[0m net \u001b[38;5;241m=\u001b[39m jetson\u001b[38;5;241m.\u001b[39minference\u001b[38;5;241m.\u001b[39mdetectnet(\u001b[38;5;124m\"\u001b[39m\u001b[38;5;124mssd-mobilenet-v2\u001b[39m\u001b[38;5;124m\"\u001b[39m, threshold\u001b[38;5;241m=\u001b[39m\u001b[38;5;241m0.5\u001b[39m)\n",
      "\u001b[1;31mModuleNotFoundError\u001b[0m: No module named 'jetson'"
     ]
    }
   ],
   "source": [
    "import jetson.inference\n",
    "import jetson.utils\n",
    "\n",
    "net = jetson.inference.detectnet(\"ssd-mobilenet-v2\", threshold=0.5)\n",
    "camera = jetson.utils.videoSource(\"/dev/video0\")\n",
    "display = jetson.utils.videoOutput()\n",
    "\n",
    "while True:\n",
    "    img = camera.Capture()\n",
    "    detections = net.Detect(img)\n",
    "    display.Render(img)\n",
    "    display.SetStatus(\"Object Detection | Network {:.0f} FPS\".format(net.GetNetworkFPS()))\n"
   ]
  }
 ],
 "metadata": {
  "kernelspec": {
   "display_name": "base",
   "language": "python",
   "name": "python3"
  },
  "language_info": {
   "codemirror_mode": {
    "name": "ipython",
    "version": 3
   },
   "file_extension": ".py",
   "mimetype": "text/x-python",
   "name": "python",
   "nbconvert_exporter": "python",
   "pygments_lexer": "ipython3",
   "version": "3.10.9"
  }
 },
 "nbformat": 4,
 "nbformat_minor": 2
}
